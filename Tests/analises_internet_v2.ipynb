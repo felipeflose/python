{
 "cells": [
  {
   "cell_type": "code",
   "execution_count": 1,
   "metadata": {},
   "outputs": [],
   "source": [
    "\n",
    "import numpy as np\n",
    "import pandas as pd\n",
    "import os\n",
    "import csv\n",
    "import time\n",
    "import glob\n",
    "from imblearn.over_sampling import SMOTE \n",
    "\n"
   ]
  },
  {
   "cell_type": "code",
   "execution_count": 2,
   "metadata": {},
   "outputs": [],
   "source": [
    "def caminho():\n",
    "    path = \"C:\\\\Users\\\\fflose\\\\Lab\\\\Pessoal\\\\python\\\\csv\\\\teste_internet\\\\\"\n",
    "    return path"
   ]
  },
  {
   "cell_type": "code",
   "execution_count": 3,
   "metadata": {},
   "outputs": [],
   "source": [
    "def lista_arquivos():\n",
    "        \n",
    "        path = caminho()\n",
    "        ListaArquivos = os.listdir(path)\n",
    "        return list(ListaArquivos)"
   ]
  },
  {
   "cell_type": "code",
   "execution_count": 4,
   "metadata": {},
   "outputs": [],
   "source": [
    "def deleta_vazio():\n",
    "        for x in lista_arquivos():\n",
    "                path = caminho()\n",
    "                arq1 = open(path+x)\n",
    "                arq1Lendo = csv.reader(arq1,delimiter=',',quoting=csv.QUOTE_NONE)\n",
    "                arqLista = list(arq1Lendo)\n",
    "                if len(arqLista) == 1:\n",
    "                    arq1.close()\n",
    "                    os.remove(arq1)        \n",
    "                return print('arquivo '+ x +'  deletado!')"
   ]
  },
  {
   "cell_type": "code",
   "execution_count": 5,
   "metadata": {},
   "outputs": [],
   "source": [
    "def lendo_arquivo():\n",
    "    l = []\n",
    "    #path = caminho()\n",
    "    os.chdir(\"C:\\\\Users\\\\fflose\\\\Lab\\\\Pessoal\\\\python\\\\csv\\\\teste_internet\\\\\")\n",
    "    extension = 'csv'\n",
    "    all_filenames = [i for i in glob.glob('*.{}'.format(extension))]\n",
    "    #combinar todos os arquivos da lista\n",
    "    combined_csv = pd.concat([pd.read_csv(f) for f in all_filenames ])\n",
    "    #exportar para csv\n",
    "    #combined_csv.to_csv( \"combined_csv.csv\", index=False, encoding='utf-8-sig')\n",
    "    df = pd.DataFrame(combined_csv)\n",
    "    return df\n",
    "    "
   ]
  },
  {
   "cell_type": "code",
   "execution_count": 6,
   "metadata": {},
   "outputs": [],
   "source": [
    "df = pd.DataFrame(lendo_arquivo())"
   ]
  },
  {
   "cell_type": "code",
   "execution_count": null,
   "metadata": {},
   "outputs": [],
   "source": []
  },
  {
   "cell_type": "code",
   "execution_count": 35,
   "metadata": {},
   "outputs": [],
   "source": [
    "\n",
    "\n",
    "def resultado():\n",
    "#qtd de teste de download por hora\n",
    "    df = pd.DataFrame(lendo_arquivo())\n",
    "    dfqtdTeste =  df.groupby(['dt_teste','hora_fechada']) ['down'].count().reset_index()\n",
    "    dfqtdTeste.rename(columns={'dt_teste':'data', 'hora_fechada':'hora' ,'down':'qtdteste'}, inplace = True)\n",
    "    dfqtdTeste = pd.pivot_table(dfqtdTeste, values = 'qtdteste', index=['data','hora','qtdteste'], columns = 'hora').reset_index()\n",
    "#max de download por hora\n",
    "    dfqmedia =  df.groupby(['dt_teste','hora_fechada']) ['down'].mean().reset_index()\n",
    "    dfqmedia.rename(columns={'dt_teste':'data', 'hora_fechada':'hora' ,'down':'media'}, inplace = True)\n",
    "    dfqmedia = pd.pivot_table(dfqmedia, values = 'media', index=['data','hora','media'], columns = 'hora').reset_index()\n",
    "#min de download por hora\n",
    "    dfqtdmin =  df.groupby(['dt_teste','hora_fechada']) ['down'].min().reset_index()\n",
    "    dfqtdmin.rename(columns={'dt_teste':'data', 'hora_fechada':'hora' ,'down':'min'}, inplace = True)\n",
    "    dfqtdmin = pd.pivot_table(dfqtdmin, values = 'min', index=['data','hora','min'], columns = 'hora').reset_index()\n",
    "#max de download por hora\n",
    "    dfqtdmax =  df.groupby(['dt_teste','hora_fechada']) ['down'].max().reset_index()\n",
    "    dfqtdmax.rename(columns={'dt_teste':'data', 'hora_fechada':'hora' ,'down':'max'}, inplace = True)\n",
    "    dfqtdmax = pd.pivot_table(dfqtdmax, values = 'max', index=['data','hora','max'], columns = 'hora').reset_index()\n",
    "#qtd chegou de download por hora\n",
    "    dfqtdchegou =  df.groupby(['dt_teste','hora_fechada']) ['chegou'].sum().reset_index()\n",
    "    dfqtdchegou.rename(columns={'dt_teste':'data', 'hora_fechada':'hora' ,'chegou':'qtdchegou'}, inplace = True)\n",
    "    dfqtdchegou = pd.pivot_table(dfqtdchegou, values = 'qtdchegou', index=['data','hora','qtdchegou'], columns = 'hora').reset_index()\n",
    "\n",
    "    #dffinal = pd.concat([dfqtdTeste, dfqmedia, dfqtdmin, dfqtdmax]).reset_index()\n",
    "    dffinal1 = pd.merge(dfqtdTeste, dfqmedia, how = 'inner', on = ['hora','data'] ).reset_index()\n",
    "    dffinal2 = pd.merge(dfqtdmin, dfqtdmax, how = 'inner', on = ['hora','data'] ).reset_index()\n",
    "    dffinal3 = pd.merge(dffinal1, dffinal2, how = 'inner', on = ['hora','data'] ).reset_index()\n",
    "    dffinal4 = pd.merge(dfqtdchegou, dffinal3, how = 'inner', on = ['hora','data'] ).reset_index() \n",
    "    return pd.DataFrame(dffinal4)\n",
    "    #print(dffinal4[['data','hora', 'qtdteste','media', 'min','max','qtdchegou']])"
   ]
  },
  {
   "cell_type": "code",
   "execution_count": 8,
   "metadata": {},
   "outputs": [],
   "source": [
    "def clear_console():\n",
    "    os.system('cls')"
   ]
  },
  {
   "cell_type": "code",
   "execution_count": 9,
   "metadata": {},
   "outputs": [],
   "source": [
    "def esperar():\n",
    "     time.sleep(15)\n"
   ]
  },
  {
   "cell_type": "code",
   "execution_count": 36,
   "metadata": {},
   "outputs": [],
   "source": [
    "df = resultado()"
   ]
  },
  {
   "cell_type": "code",
   "execution_count": 37,
   "metadata": {},
   "outputs": [
    {
     "data": {
      "text/html": [
       "<div>\n",
       "<style scoped>\n",
       "    .dataframe tbody tr th:only-of-type {\n",
       "        vertical-align: middle;\n",
       "    }\n",
       "\n",
       "    .dataframe tbody tr th {\n",
       "        vertical-align: top;\n",
       "    }\n",
       "\n",
       "    .dataframe thead th {\n",
       "        text-align: right;\n",
       "    }\n",
       "</style>\n",
       "<table border=\"1\" class=\"dataframe\">\n",
       "  <thead>\n",
       "    <tr style=\"text-align: right;\">\n",
       "      <th>hora</th>\n",
       "      <th>level_0</th>\n",
       "      <th>data</th>\n",
       "      <th>hora</th>\n",
       "      <th>qtdchegou</th>\n",
       "      <th>index</th>\n",
       "      <th>index_x</th>\n",
       "      <th>qtdteste</th>\n",
       "      <th>media</th>\n",
       "      <th>index_y</th>\n",
       "      <th>min</th>\n",
       "      <th>max</th>\n",
       "    </tr>\n",
       "  </thead>\n",
       "  <tbody>\n",
       "    <tr>\n",
       "      <th>0</th>\n",
       "      <td>0</td>\n",
       "      <td>01/08/2022</td>\n",
       "      <td>9.0</td>\n",
       "      <td>0.0</td>\n",
       "      <td>0</td>\n",
       "      <td>0</td>\n",
       "      <td>66</td>\n",
       "      <td>99.969697</td>\n",
       "      <td>0</td>\n",
       "      <td>40.0</td>\n",
       "      <td>133.0</td>\n",
       "    </tr>\n",
       "    <tr>\n",
       "      <th>1</th>\n",
       "      <td>1</td>\n",
       "      <td>01/08/2022</td>\n",
       "      <td>10.0</td>\n",
       "      <td>0.0</td>\n",
       "      <td>1</td>\n",
       "      <td>1</td>\n",
       "      <td>101</td>\n",
       "      <td>129.574257</td>\n",
       "      <td>1</td>\n",
       "      <td>66.0</td>\n",
       "      <td>194.0</td>\n",
       "    </tr>\n",
       "    <tr>\n",
       "      <th>2</th>\n",
       "      <td>2</td>\n",
       "      <td>01/08/2022</td>\n",
       "      <td>11.0</td>\n",
       "      <td>0.0</td>\n",
       "      <td>2</td>\n",
       "      <td>2</td>\n",
       "      <td>146</td>\n",
       "      <td>130.232877</td>\n",
       "      <td>2</td>\n",
       "      <td>67.0</td>\n",
       "      <td>187.0</td>\n",
       "    </tr>\n",
       "    <tr>\n",
       "      <th>3</th>\n",
       "      <td>3</td>\n",
       "      <td>01/08/2022</td>\n",
       "      <td>12.0</td>\n",
       "      <td>1.0</td>\n",
       "      <td>3</td>\n",
       "      <td>3</td>\n",
       "      <td>157</td>\n",
       "      <td>147.675159</td>\n",
       "      <td>3</td>\n",
       "      <td>49.0</td>\n",
       "      <td>206.0</td>\n",
       "    </tr>\n",
       "    <tr>\n",
       "      <th>4</th>\n",
       "      <td>4</td>\n",
       "      <td>01/08/2022</td>\n",
       "      <td>13.0</td>\n",
       "      <td>0.0</td>\n",
       "      <td>4</td>\n",
       "      <td>4</td>\n",
       "      <td>169</td>\n",
       "      <td>90.213018</td>\n",
       "      <td>4</td>\n",
       "      <td>25.0</td>\n",
       "      <td>162.0</td>\n",
       "    </tr>\n",
       "  </tbody>\n",
       "</table>\n",
       "</div>"
      ],
      "text/plain": [
       "hora  level_0        data  hora  qtdchegou  index  index_x  qtdteste  \\\n",
       "0           0  01/08/2022   9.0        0.0      0        0        66   \n",
       "1           1  01/08/2022  10.0        0.0      1        1       101   \n",
       "2           2  01/08/2022  11.0        0.0      2        2       146   \n",
       "3           3  01/08/2022  12.0        1.0      3        3       157   \n",
       "4           4  01/08/2022  13.0        0.0      4        4       169   \n",
       "\n",
       "hora       media  index_y   min    max  \n",
       "0      99.969697        0  40.0  133.0  \n",
       "1     129.574257        1  66.0  194.0  \n",
       "2     130.232877        2  67.0  187.0  \n",
       "3     147.675159        3  49.0  206.0  \n",
       "4      90.213018        4  25.0  162.0  "
      ]
     },
     "execution_count": 37,
     "metadata": {},
     "output_type": "execute_result"
    }
   ],
   "source": [
    "df.head()"
   ]
  },
  {
   "cell_type": "code",
   "execution_count": 40,
   "metadata": {},
   "outputs": [],
   "source": [
    "datas = df['data']"
   ]
  },
  {
   "cell_type": "code",
   "execution_count": 41,
   "metadata": {},
   "outputs": [],
   "source": [
    "qtd = df['qtdteste']"
   ]
  },
  {
   "cell_type": "code",
   "execution_count": 42,
   "metadata": {},
   "outputs": [
    {
     "ename": "NameError",
     "evalue": "name 'plt' is not defined",
     "output_type": "error",
     "traceback": [
      "\u001b[1;31m---------------------------------------------------------------------------\u001b[0m",
      "\u001b[1;31mNameError\u001b[0m                                 Traceback (most recent call last)",
      "\u001b[1;32mc:\\Users\\fflose\\Lab\\Pessoal\\python\\Tests\\analises_internet_v2.ipynb Célula: 15\u001b[0m in \u001b[0;36m<cell line: 2>\u001b[1;34m()\u001b[0m\n\u001b[0;32m      <a href='vscode-notebook-cell:/c%3A/Users/fflose/Lab/Pessoal/python/Tests/analises_internet_v2.ipynb#ch0000009?line=0'>1</a>\u001b[0m \u001b[39m# Plot\u001b[39;00m\n\u001b[1;32m----> <a href='vscode-notebook-cell:/c%3A/Users/fflose/Lab/Pessoal/python/Tests/analises_internet_v2.ipynb#ch0000009?line=1'>2</a>\u001b[0m plt\u001b[39m.\u001b[39mfigure(figsize \u001b[39m=\u001b[39m (\u001b[39m16\u001b[39m,\u001b[39m8\u001b[39m))\n\u001b[0;32m      <a href='vscode-notebook-cell:/c%3A/Users/fflose/Lab/Pessoal/python/Tests/analises_internet_v2.ipynb#ch0000009?line=2'>3</a>\u001b[0m sns\u001b[39m.\u001b[39mbarplot(x \u001b[39m=\u001b[39m datas\u001b[39m.\u001b[39mvalues, y \u001b[39m=\u001b[39m qtd\u001b[39m.\u001b[39mindex, orient \u001b[39m=\u001b[39m \u001b[39m\"\u001b[39m\u001b[39mh\u001b[39m\u001b[39m\"\u001b[39m, palette \u001b[39m=\u001b[39m \u001b[39m\"\u001b[39m\u001b[39mterrain\u001b[39m\u001b[39m\"\u001b[39m)\n\u001b[0;32m      <a href='vscode-notebook-cell:/c%3A/Users/fflose/Lab/Pessoal/python/Tests/analises_internet_v2.ipynb#ch0000009?line=3'>4</a>\u001b[0m plt\u001b[39m.\u001b[39mylabel(\u001b[39m'\u001b[39m\u001b[39mGênero\u001b[39m\u001b[39m'\u001b[39m)             \n",
      "\u001b[1;31mNameError\u001b[0m: name 'plt' is not defined"
     ]
    }
   ],
   "source": [
    "\n",
    "# Plot\n",
    "plt.figure(figsize = (16,8))\n",
    "sns.barplot(x = datas.values, y = qtd.index, orient = \"h\", palette = \"terrain\")\n",
    "plt.ylabel('Gênero')             \n",
    "plt.xlabel(\"\\nPercentual de Filmes (%)\")\n",
    "plt.title('\\nNúmero (Percentual) de Títulos Por Gênero\\n')\n",
    "plt.show()"
   ]
  },
  {
   "cell_type": "code",
   "execution_count": 30,
   "metadata": {},
   "outputs": [
    {
     "ename": "KeyError",
     "evalue": "'data'",
     "output_type": "error",
     "traceback": [
      "\u001b[1;31m---------------------------------------------------------------------------\u001b[0m",
      "\u001b[1;31mKeyError\u001b[0m                                  Traceback (most recent call last)",
      "File \u001b[1;32m~\\AppData\\Local\\Packages\\PythonSoftwareFoundation.Python.3.9_qbz5n2kfra8p0\\LocalCache\\local-packages\\Python39\\site-packages\\pandas\\core\\indexes\\base.py:3621\u001b[0m, in \u001b[0;36mIndex.get_loc\u001b[1;34m(self, key, method, tolerance)\u001b[0m\n\u001b[0;32m   3620\u001b[0m \u001b[39mtry\u001b[39;00m:\n\u001b[1;32m-> 3621\u001b[0m     \u001b[39mreturn\u001b[39;00m \u001b[39mself\u001b[39;49m\u001b[39m.\u001b[39;49m_engine\u001b[39m.\u001b[39;49mget_loc(casted_key)\n\u001b[0;32m   3622\u001b[0m \u001b[39mexcept\u001b[39;00m \u001b[39mKeyError\u001b[39;00m \u001b[39mas\u001b[39;00m err:\n",
      "File \u001b[1;32m~\\AppData\\Local\\Packages\\PythonSoftwareFoundation.Python.3.9_qbz5n2kfra8p0\\LocalCache\\local-packages\\Python39\\site-packages\\pandas\\_libs\\index.pyx:136\u001b[0m, in \u001b[0;36mpandas._libs.index.IndexEngine.get_loc\u001b[1;34m()\u001b[0m\n",
      "File \u001b[1;32m~\\AppData\\Local\\Packages\\PythonSoftwareFoundation.Python.3.9_qbz5n2kfra8p0\\LocalCache\\local-packages\\Python39\\site-packages\\pandas\\_libs\\index.pyx:163\u001b[0m, in \u001b[0;36mpandas._libs.index.IndexEngine.get_loc\u001b[1;34m()\u001b[0m\n",
      "File \u001b[1;32mpandas\\_libs\\hashtable_class_helper.pxi:5198\u001b[0m, in \u001b[0;36mpandas._libs.hashtable.PyObjectHashTable.get_item\u001b[1;34m()\u001b[0m\n",
      "File \u001b[1;32mpandas\\_libs\\hashtable_class_helper.pxi:5206\u001b[0m, in \u001b[0;36mpandas._libs.hashtable.PyObjectHashTable.get_item\u001b[1;34m()\u001b[0m\n",
      "\u001b[1;31mKeyError\u001b[0m: 'data'",
      "\nThe above exception was the direct cause of the following exception:\n",
      "\u001b[1;31mKeyError\u001b[0m                                  Traceback (most recent call last)",
      "\u001b[1;32mc:\\Users\\fflose\\Lab\\Pessoal\\python\\Tests\\analises_internet_v2.ipynb Célula: 12\u001b[0m in \u001b[0;36m<cell line: 1>\u001b[1;34m()\u001b[0m\n\u001b[1;32m----> <a href='vscode-notebook-cell:/c%3A/Users/fflose/Lab/Pessoal/python/Tests/analises_internet_v2.ipynb#ch0000016?line=0'>1</a>\u001b[0m df[\u001b[39m'\u001b[39;49m\u001b[39mdata\u001b[39;49m\u001b[39m'\u001b[39;49m]\n",
      "File \u001b[1;32m~\\AppData\\Local\\Packages\\PythonSoftwareFoundation.Python.3.9_qbz5n2kfra8p0\\LocalCache\\local-packages\\Python39\\site-packages\\pandas\\core\\frame.py:3505\u001b[0m, in \u001b[0;36mDataFrame.__getitem__\u001b[1;34m(self, key)\u001b[0m\n\u001b[0;32m   3503\u001b[0m \u001b[39mif\u001b[39;00m \u001b[39mself\u001b[39m\u001b[39m.\u001b[39mcolumns\u001b[39m.\u001b[39mnlevels \u001b[39m>\u001b[39m \u001b[39m1\u001b[39m:\n\u001b[0;32m   3504\u001b[0m     \u001b[39mreturn\u001b[39;00m \u001b[39mself\u001b[39m\u001b[39m.\u001b[39m_getitem_multilevel(key)\n\u001b[1;32m-> 3505\u001b[0m indexer \u001b[39m=\u001b[39m \u001b[39mself\u001b[39;49m\u001b[39m.\u001b[39;49mcolumns\u001b[39m.\u001b[39;49mget_loc(key)\n\u001b[0;32m   3506\u001b[0m \u001b[39mif\u001b[39;00m is_integer(indexer):\n\u001b[0;32m   3507\u001b[0m     indexer \u001b[39m=\u001b[39m [indexer]\n",
      "File \u001b[1;32m~\\AppData\\Local\\Packages\\PythonSoftwareFoundation.Python.3.9_qbz5n2kfra8p0\\LocalCache\\local-packages\\Python39\\site-packages\\pandas\\core\\indexes\\base.py:3623\u001b[0m, in \u001b[0;36mIndex.get_loc\u001b[1;34m(self, key, method, tolerance)\u001b[0m\n\u001b[0;32m   3621\u001b[0m     \u001b[39mreturn\u001b[39;00m \u001b[39mself\u001b[39m\u001b[39m.\u001b[39m_engine\u001b[39m.\u001b[39mget_loc(casted_key)\n\u001b[0;32m   3622\u001b[0m \u001b[39mexcept\u001b[39;00m \u001b[39mKeyError\u001b[39;00m \u001b[39mas\u001b[39;00m err:\n\u001b[1;32m-> 3623\u001b[0m     \u001b[39mraise\u001b[39;00m \u001b[39mKeyError\u001b[39;00m(key) \u001b[39mfrom\u001b[39;00m \u001b[39merr\u001b[39;00m\n\u001b[0;32m   3624\u001b[0m \u001b[39mexcept\u001b[39;00m \u001b[39mTypeError\u001b[39;00m:\n\u001b[0;32m   3625\u001b[0m     \u001b[39m# If we have a listlike key, _check_indexing_error will raise\u001b[39;00m\n\u001b[0;32m   3626\u001b[0m     \u001b[39m#  InvalidIndexError. Otherwise we fall through and re-raise\u001b[39;00m\n\u001b[0;32m   3627\u001b[0m     \u001b[39m#  the TypeError.\u001b[39;00m\n\u001b[0;32m   3628\u001b[0m     \u001b[39mself\u001b[39m\u001b[39m.\u001b[39m_check_indexing_error(key)\n",
      "\u001b[1;31mKeyError\u001b[0m: 'data'"
     ]
    }
   ],
   "source": [
    "df['data']"
   ]
  },
  {
   "cell_type": "code",
   "execution_count": null,
   "metadata": {},
   "outputs": [],
   "source": [
    "plt.figure(figsize = (16,8))\n",
    "sns.barplot(x = generos_percentual.values, y = generos_percentual.index, orient = \"h\", palette = \"terrain\")\n",
    "plt.ylabel('Gênero')             \n",
    "plt.xlabel(\"\\nPercentual de Filmes (%)\")\n",
    "plt.title('\\nNúmero (Percentual) de Títulos Por Gênero\\n')\n",
    "plt.show()"
   ]
  },
  {
   "cell_type": "code",
   "execution_count": null,
   "metadata": {},
   "outputs": [],
   "source": []
  },
  {
   "cell_type": "code",
   "execution_count": null,
   "metadata": {},
   "outputs": [],
   "source": []
  },
  {
   "cell_type": "code",
   "execution_count": null,
   "metadata": {},
   "outputs": [],
   "source": []
  }
 ],
 "metadata": {
  "kernelspec": {
   "display_name": "Python 3.9.13 64-bit (windows store)",
   "language": "python",
   "name": "python3"
  },
  "language_info": {
   "codemirror_mode": {
    "name": "ipython",
    "version": 3
   },
   "file_extension": ".py",
   "mimetype": "text/x-python",
   "name": "python",
   "nbconvert_exporter": "python",
   "pygments_lexer": "ipython3",
   "version": "3.9.13"
  },
  "orig_nbformat": 4,
  "vscode": {
   "interpreter": {
    "hash": "9ccea114764548ac1c13433044a0e53092d508177240166aa9660c215decd644"
   }
  }
 },
 "nbformat": 4,
 "nbformat_minor": 2
}
