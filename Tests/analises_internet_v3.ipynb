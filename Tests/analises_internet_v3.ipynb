{
 "cells": [
  {
   "cell_type": "code",
   "execution_count": 306,
   "metadata": {},
   "outputs": [],
   "source": [
    "import numpy as np\n",
    "import pandas as pd\n",
    "import os\n",
    "import csv\n",
    "import time\n",
    "import glob\n",
    "from datetime import datetime\n"
   ]
  },
  {
   "cell_type": "code",
   "execution_count": 307,
   "metadata": {},
   "outputs": [],
   "source": [
    "def caminho():\n",
    "    import socket\n",
    "    name = socket.gethostname()\n",
    "    if name == 'LGNTVIVO71':\n",
    "        path = \"\\\\\\\\desktop-73e3j72\\\\teste_internet\\\\\"\n",
    "        #path = \"C:\\\\Users\\\\fflose\\\\Lab\\\\\\Pessoal\\\\python\\\\csv\\\\teste_internet\\\\\"\n",
    "    else:\n",
    "        path = \"\\\\\\\\desktop-73e3j72\\\\teste_internet\\\\\"\n",
    "    return path"
   ]
  },
  {
   "cell_type": "code",
   "execution_count": 308,
   "metadata": {},
   "outputs": [],
   "source": [
    "def lista_arquivos():\n",
    "        path = caminho()\n",
    "        ListaArquivos = os.listdir(path)\n",
    "        l = []\n",
    "        ListaArquivos = os.listdir(path)\n",
    "        l = ListaArquivos\n",
    "        dt = datetime.now().strftime('%d-%m-%Y')\n",
    "        for x in l:\n",
    "    #print(x[15:25])\n",
    "                if x[15:25] == dt:\n",
    "                        l.append(x)\n",
    "                 \n",
    "        return l\n"
   ]
  },
  {
   "cell_type": "code",
   "execution_count": 309,
   "metadata": {},
   "outputs": [],
   "source": [
    "def deleta_vazio():\n",
    "    for x in lista_arquivos():\n",
    "        path = caminho()\n",
    "        arq1 = open(path+x)\n",
    "        arq1Lendo = csv.reader(arq1,delimiter=',',quoting=csv.QUOTE_NONE)\n",
    "        arqLista = list(arq1Lendo)\n",
    "        if len(arqLista) == 1:\n",
    "            arq1.close()\n",
    "            os.remove(path+x)        \n",
    "            return print('arquivo '+ x +'  deletado!') "
   ]
  },
  {
   "cell_type": "code",
   "execution_count": 310,
   "metadata": {},
   "outputs": [],
   "source": [
    "def lendo_arquivo():\n",
    "    #l = []\n",
    "    path = caminho()\n",
    "    os.chdir(path)\n",
    "    extension = 'csv'\n",
    "    all_filenames = [i for i in glob.glob('*.{}'.format(extension))]\n",
    "    dt = datetime.now().strftime('%d-%m-%Y')\n",
    "    l = []\n",
    "    for x in all_filenames:\n",
    "        #print(x[15:25])\n",
    "        if x[15:25] == dt:\n",
    "                    l.append(x)\n",
    "    #combinar todos os arquivos da lista\n",
    "    combined_csv = pd.concat([pd.read_csv(f) for f in l ])\n",
    "    #exportar para csv\n",
    "    #combined_csv.to_csv( \"combined_csv.csv\", index=False, encoding='utf-8-sig')\n",
    "    df = pd.DataFrame(combined_csv)\n",
    "    df.insert(4,'min_fechado',df['hora_teste'].str[3:5])\n",
    "    #df.insert(2,'min_fechado',df['hora_teste'].str[3:5])\n",
    "    return df"
   ]
  },
  {
   "cell_type": "code",
   "execution_count": 311,
   "metadata": {},
   "outputs": [],
   "source": [
    "def resultado():\n",
    "    df = []\n",
    "    df = pd.DataFrame(lendo_arquivo())\n",
    "    \n",
    "#qtd de teste de download por hora\n",
    "    dfqtdTeste =  df.groupby(['dt_teste','hora_fechada','min_fechado']) ['down'].count().reset_index()\n",
    "    dfqtdTeste.rename(columns={'dt_teste':'data', 'hora_fechada':'hora','min_fechado':'minuto','down':'qtdteste'}, inplace = True)\n",
    "    dfqtdTeste = pd.pivot_table(dfqtdTeste, values = 'qtdteste', index=['data','hora','minuto']).reset_index()  \n",
    "#max de download por hora\n",
    "    dfqmedia =  df.groupby(['dt_teste','hora_fechada','min_fechado']) ['down'].mean().reset_index()\n",
    "    dfqmedia.rename(columns={'dt_teste':'data', 'hora_fechada':'hora','min_fechado':'minuto' ,'down':'media'}, inplace = True)\n",
    "    dfqmedia = pd.pivot_table(dfqmedia, values = 'media', index=['data','hora','minuto']).reset_index()\n",
    "#min de download por hora\n",
    "    dfqtdmin =  df.groupby(['dt_teste','hora_fechada','min_fechado']) ['down'].min().reset_index()\n",
    "    dfqtdmin.rename(columns={'dt_teste':'data', 'hora_fechada':'hora' ,'min_fechado':'minuto' ,'down':'min'}, inplace = True)\n",
    "    dfqtdmin = pd.pivot_table(dfqtdmin, values = 'min', index=['data','hora','minuto']).reset_index()\n",
    "#max de download por hora\n",
    "    dfqtdmax =  df.groupby(['dt_teste','hora_fechada','min_fechado']) ['down'].max().reset_index()\n",
    "    dfqtdmax.rename(columns={'dt_teste':'data', 'hora_fechada':'hora' ,'min_fechado':'minuto' ,'down':'max'}, inplace = True)\n",
    "    dfqtdmax = pd.pivot_table(dfqtdmax, values = 'max', index=['data','hora','minuto']).reset_index()\n",
    "#qtd chegou de download por hora\n",
    "    dfqtdchegou =  df.groupby(['dt_teste','hora_fechada','min_fechado']) ['chegou'].sum().reset_index()\n",
    "    dfqtdchegou.rename(columns={'dt_teste':'data', 'hora_fechada':'hora' ,'min_fechado':'minuto' ,'chegou':'qtdchegou'}, inplace = True)\n",
    "    dfqtdchegou = pd.pivot_table(dfqtdchegou, values = 'qtdchegou', index=['data','hora','minuto']).reset_index()\n",
    "    \n",
    "#merge de todos\n",
    "    dffinal1 = pd.merge(dfqtdTeste, dfqmedia, how = 'inner', on = ['hora','data','minuto'] ).reset_index()\n",
    "    dffinal2 = pd.merge(dfqtdmin, dfqtdmax, how = 'inner', on = ['hora','data','minuto'] ).reset_index()\n",
    "    dffinal3 = pd.merge(dffinal1, dffinal2, how = 'inner', on = ['hora','data','minuto'] ).reset_index()\n",
    "    dffinal4 = pd.merge(dfqtdchegou, dffinal3, how = 'inner', on = ['hora','data','minuto'] )\n",
    "    \n",
    "    return(dffinal4[['data','hora', 'minuto', 'qtdteste','media', 'min','max','qtdchegou']])\n",
    "\n"
   ]
  },
  {
   "cell_type": "code",
   "execution_count": 312,
   "metadata": {},
   "outputs": [],
   "source": [
    "def clear_console():\n",
    "    os.system('clear')"
   ]
  },
  {
   "cell_type": "code",
   "execution_count": 313,
   "metadata": {},
   "outputs": [
    {
     "name": "stdout",
     "output_type": "stream",
     "text": [
      "Empty DataFrame\n",
      "Columns: [data, hora, minuto, qtdteste, media, min, max, qtdchegou]\n",
      "Index: []\n"
     ]
    }
   ],
   "source": [
    "df = resultado()\n",
    "clear_console()\n",
    "max_data = df['data'].max()\n",
    "max_hora = df['hora'].max()\n",
    "max_min = df['minuto'].max()\n",
    "df = df.loc[df['data'] == max_data]\n",
    "df = df.loc[df['hora'] == max_hora]\n",
    "df = df.loc[df['minuto'] == max_min]\n",
    "print(df)"
   ]
  }
 ],
 "metadata": {
  "kernelspec": {
   "display_name": "Python 3.9.13 64-bit (windows store)",
   "language": "python",
   "name": "python3"
  },
  "language_info": {
   "codemirror_mode": {
    "name": "ipython",
    "version": 3
   },
   "file_extension": ".py",
   "mimetype": "text/x-python",
   "name": "python",
   "nbconvert_exporter": "python",
   "pygments_lexer": "ipython3",
   "version": "3.9.13"
  },
  "orig_nbformat": 4,
  "vscode": {
   "interpreter": {
    "hash": "9ccea114764548ac1c13433044a0e53092d508177240166aa9660c215decd644"
   }
  }
 },
 "nbformat": 4,
 "nbformat_minor": 2
}
