{
 "cells": [
  {
   "cell_type": "code",
   "execution_count": 1,
   "metadata": {},
   "outputs": [],
   "source": [
    "import numpy as np\n",
    "import pandas as pd\n",
    "import os\n",
    "import csv\n",
    "import time\n",
    "import glob\n",
    "from datetime import datetime\n"
   ]
  },
  {
   "cell_type": "code",
   "execution_count": 2,
   "metadata": {},
   "outputs": [],
   "source": [
    "def caminho():\n",
    "    import socket\n",
    "    name = socket.gethostname()\n",
    "    if name == 'LGNTVIVO71':\n",
    "        path = \"\\\\\\\\desktop-73e3j72\\\\teste_internet\\\\\"\n",
    "        #path = \"C:\\\\Users\\\\fflose\\\\Lab\\\\\\Pessoal\\\\python\\\\csv\\\\teste_internet\\\\\"\n",
    "    else:\n",
    "        path = \"\\\\\\\\desktop-73e3j72\\\\teste_internet\\\\\"\n",
    "    return path"
   ]
  },
  {
   "cell_type": "code",
   "execution_count": 3,
   "metadata": {},
   "outputs": [],
   "source": [
    "def lista_arquivos():\n",
    "        path = caminho()\n",
    "        ListaArquivos = os.listdir(path)\n",
    "        l = []\n",
    "        ListaArquivos = os.listdir(path)\n",
    "        l = ListaArquivos\n",
    "        dt = datetime.now().strftime('%d-%m-%Y')\n",
    "        for x in l:\n",
    "    #print(x[15:25])\n",
    "                if x[15:25] == dt:\n",
    "                        l.append(x)\n",
    "                 \n",
    "        return l\n"
   ]
  },
  {
   "cell_type": "code",
   "execution_count": 4,
   "metadata": {},
   "outputs": [],
   "source": [
    "def deleta_vazio():\n",
    "    for x in lista_arquivos():\n",
    "        path = caminho()\n",
    "        arq1 = open(path+x)\n",
    "        arq1Lendo = csv.reader(arq1,delimiter=',',quoting=csv.QUOTE_NONE)\n",
    "        arqLista = list(arq1Lendo)\n",
    "        if len(arqLista) == 1:\n",
    "            arq1.close()\n",
    "            os.remove(path+x)        \n",
    "            return print('arquivo '+ x +'  deletado!') "
   ]
  },
  {
   "cell_type": "code",
   "execution_count": 5,
   "metadata": {},
   "outputs": [],
   "source": [
    "def lendo_arquivo():\n",
    "    #l = []\n",
    "    path = caminho()\n",
    "    os.chdir(path)\n",
    "    extension = 'csv'\n",
    "    all_filenames = [i for i in glob.glob('*.{}'.format(extension))]\n",
    "    dt = datetime.now().strftime('%d-%m-%Y')\n",
    "    l = []\n",
    "    for x in all_filenames:\n",
    "        #print(x[15:25])\n",
    "        if x[15:25] == dt:\n",
    "                    l.append(x)\n",
    "    #combinar todos os arquivos da lista\n",
    "    combined_csv = pd.concat([pd.read_csv(f) for f in l ])\n",
    "    #exportar para csv\n",
    "    #combined_csv.to_csv( \"combined_csv.csv\", index=False, encoding='utf-8-sig')\n",
    "    df = pd.DataFrame(combined_csv)\n",
    "    df.insert(4,'min_fechado',df['hora_teste'].str[3:5])\n",
    "    #df.insert(2,'min_fechado',df['hora_teste'].str[3:5])\n",
    "    return df"
   ]
  },
  {
   "cell_type": "code",
   "execution_count": 6,
   "metadata": {},
   "outputs": [],
   "source": [
    "def resultado():\n",
    "    deleta_vazio()\n",
    "    df = []\n",
    "    df = pd.DataFrame(lendo_arquivo())\n",
    "    \n",
    "#qtd de teste de download por hora\n",
    "    dfqtdTeste =  df.groupby(['dt_teste','hora_fechada','min_fechado']) ['down'].count().reset_index()\n",
    "    dfqtdTeste.rename(columns={'dt_teste':'data', 'hora_fechada':'hora','min_fechado':'minuto','down':'qtdteste'}, inplace = True)\n",
    "    dfqtdTeste = pd.pivot_table(dfqtdTeste, values = 'qtdteste', index=['data','hora','minuto']).reset_index()  \n",
    "#max de download por hora\n",
    "    dfqmedia =  df.groupby(['dt_teste','hora_fechada','min_fechado']) ['down'].mean().reset_index()\n",
    "    dfqmedia.rename(columns={'dt_teste':'data', 'hora_fechada':'hora','min_fechado':'minuto' ,'down':'media'}, inplace = True)\n",
    "    dfqmedia = pd.pivot_table(dfqmedia, values = 'media', index=['data','hora','minuto']).reset_index()\n",
    "#min de download por hora\n",
    "    dfqtdmin =  df.groupby(['dt_teste','hora_fechada','min_fechado']) ['down'].min().reset_index()\n",
    "    dfqtdmin.rename(columns={'dt_teste':'data', 'hora_fechada':'hora' ,'min_fechado':'minuto' ,'down':'min'}, inplace = True)\n",
    "    dfqtdmin = pd.pivot_table(dfqtdmin, values = 'min', index=['data','hora','minuto']).reset_index()\n",
    "#max de download por hora\n",
    "    dfqtdmax =  df.groupby(['dt_teste','hora_fechada','min_fechado']) ['down'].max().reset_index()\n",
    "    dfqtdmax.rename(columns={'dt_teste':'data', 'hora_fechada':'hora' ,'min_fechado':'minuto' ,'down':'max'}, inplace = True)\n",
    "    dfqtdmax = pd.pivot_table(dfqtdmax, values = 'max', index=['data','hora','minuto']).reset_index()\n",
    "#qtd chegou de download por hora\n",
    "    dfqtdchegou =  df.groupby(['dt_teste','hora_fechada','min_fechado']) ['chegou'].sum().reset_index()\n",
    "    dfqtdchegou.rename(columns={'dt_teste':'data', 'hora_fechada':'hora' ,'min_fechado':'minuto' ,'chegou':'qtdchegou'}, inplace = True)\n",
    "    dfqtdchegou = pd.pivot_table(dfqtdchegou, values = 'qtdchegou', index=['data','hora','minuto']).reset_index()\n",
    "    \n",
    "#merge de todos\n",
    "    dffinal1 = pd.merge(dfqtdTeste, dfqmedia, how = 'inner', on = ['hora','data','minuto'] ).reset_index()\n",
    "    dffinal2 = pd.merge(dfqtdmin, dfqtdmax, how = 'inner', on = ['hora','data','minuto'] ).reset_index()\n",
    "    dffinal3 = pd.merge(dffinal1, dffinal2, how = 'inner', on = ['hora','data','minuto'] ).reset_index()\n",
    "    dffinal4 = pd.merge(dfqtdchegou, dffinal3, how = 'inner', on = ['hora','data','minuto'] )\n",
    "    \n",
    "    return(dffinal4[['data','hora', 'minuto', 'qtdteste','media', 'min','max','qtdchegou']])\n",
    "\n"
   ]
  },
  {
   "cell_type": "code",
   "execution_count": 7,
   "metadata": {},
   "outputs": [],
   "source": [
    "def clear_console():\n",
    "    os.system('clear')"
   ]
  },
  {
   "cell_type": "code",
   "execution_count": 8,
   "metadata": {},
   "outputs": [
    {
     "name": "stdout",
     "output_type": "stream",
     "text": [
      "arquivo teste_internet-02-08-2022-17-29-31.csv  deletado!\n"
     ]
    },
    {
     "ename": "ValueError",
     "evalue": "No objects to concatenate",
     "output_type": "error",
     "traceback": [
      "\u001b[1;31m---------------------------------------------------------------------------\u001b[0m",
      "\u001b[1;31mValueError\u001b[0m                                Traceback (most recent call last)",
      "\u001b[1;32mc:\\Users\\fflose\\Lab\\Pessoal\\python\\Tests\\analises_internet_v3.ipynb Célula: 8\u001b[0m in \u001b[0;36m<cell line: 1>\u001b[1;34m()\u001b[0m\n\u001b[1;32m----> <a href='vscode-notebook-cell:/c%3A/Users/fflose/Lab/Pessoal/python/Tests/analises_internet_v3.ipynb#X10sZmlsZQ%3D%3D?line=0'>1</a>\u001b[0m df \u001b[39m=\u001b[39m resultado()\n\u001b[0;32m      <a href='vscode-notebook-cell:/c%3A/Users/fflose/Lab/Pessoal/python/Tests/analises_internet_v3.ipynb#X10sZmlsZQ%3D%3D?line=1'>2</a>\u001b[0m clear_console()\n\u001b[0;32m      <a href='vscode-notebook-cell:/c%3A/Users/fflose/Lab/Pessoal/python/Tests/analises_internet_v3.ipynb#X10sZmlsZQ%3D%3D?line=2'>3</a>\u001b[0m max_data \u001b[39m=\u001b[39m df[\u001b[39m'\u001b[39m\u001b[39mdata\u001b[39m\u001b[39m'\u001b[39m]\u001b[39m.\u001b[39mmax()\n",
      "\u001b[1;32mc:\\Users\\fflose\\Lab\\Pessoal\\python\\Tests\\analises_internet_v3.ipynb Célula: 8\u001b[0m in \u001b[0;36mresultado\u001b[1;34m()\u001b[0m\n\u001b[0;32m      <a href='vscode-notebook-cell:/c%3A/Users/fflose/Lab/Pessoal/python/Tests/analises_internet_v3.ipynb#X10sZmlsZQ%3D%3D?line=1'>2</a>\u001b[0m     deleta_vazio()\n\u001b[0;32m      <a href='vscode-notebook-cell:/c%3A/Users/fflose/Lab/Pessoal/python/Tests/analises_internet_v3.ipynb#X10sZmlsZQ%3D%3D?line=2'>3</a>\u001b[0m     df \u001b[39m=\u001b[39m []\n\u001b[1;32m----> <a href='vscode-notebook-cell:/c%3A/Users/fflose/Lab/Pessoal/python/Tests/analises_internet_v3.ipynb#X10sZmlsZQ%3D%3D?line=3'>4</a>\u001b[0m     df \u001b[39m=\u001b[39m pd\u001b[39m.\u001b[39mDataFrame(lendo_arquivo())\n\u001b[0;32m      <a href='vscode-notebook-cell:/c%3A/Users/fflose/Lab/Pessoal/python/Tests/analises_internet_v3.ipynb#X10sZmlsZQ%3D%3D?line=5'>6</a>\u001b[0m \u001b[39m#qtd de teste de download por hora\u001b[39;00m\n\u001b[0;32m      <a href='vscode-notebook-cell:/c%3A/Users/fflose/Lab/Pessoal/python/Tests/analises_internet_v3.ipynb#X10sZmlsZQ%3D%3D?line=6'>7</a>\u001b[0m     dfqtdTeste \u001b[39m=\u001b[39m  df\u001b[39m.\u001b[39mgroupby([\u001b[39m'\u001b[39m\u001b[39mdt_teste\u001b[39m\u001b[39m'\u001b[39m,\u001b[39m'\u001b[39m\u001b[39mhora_fechada\u001b[39m\u001b[39m'\u001b[39m,\u001b[39m'\u001b[39m\u001b[39mmin_fechado\u001b[39m\u001b[39m'\u001b[39m]) [\u001b[39m'\u001b[39m\u001b[39mdown\u001b[39m\u001b[39m'\u001b[39m]\u001b[39m.\u001b[39mcount()\u001b[39m.\u001b[39mreset_index()\n",
      "\u001b[1;32mc:\\Users\\fflose\\Lab\\Pessoal\\python\\Tests\\analises_internet_v3.ipynb Célula: 8\u001b[0m in \u001b[0;36mlendo_arquivo\u001b[1;34m()\u001b[0m\n\u001b[0;32m     <a href='vscode-notebook-cell:/c%3A/Users/fflose/Lab/Pessoal/python/Tests/analises_internet_v3.ipynb#X10sZmlsZQ%3D%3D?line=11'>12</a>\u001b[0m                 l\u001b[39m.\u001b[39mappend(x)\n\u001b[0;32m     <a href='vscode-notebook-cell:/c%3A/Users/fflose/Lab/Pessoal/python/Tests/analises_internet_v3.ipynb#X10sZmlsZQ%3D%3D?line=12'>13</a>\u001b[0m \u001b[39m#combinar todos os arquivos da lista\u001b[39;00m\n\u001b[1;32m---> <a href='vscode-notebook-cell:/c%3A/Users/fflose/Lab/Pessoal/python/Tests/analises_internet_v3.ipynb#X10sZmlsZQ%3D%3D?line=13'>14</a>\u001b[0m combined_csv \u001b[39m=\u001b[39m pd\u001b[39m.\u001b[39;49mconcat([pd\u001b[39m.\u001b[39;49mread_csv(f) \u001b[39mfor\u001b[39;49;00m f \u001b[39min\u001b[39;49;00m l ])\n\u001b[0;32m     <a href='vscode-notebook-cell:/c%3A/Users/fflose/Lab/Pessoal/python/Tests/analises_internet_v3.ipynb#X10sZmlsZQ%3D%3D?line=14'>15</a>\u001b[0m \u001b[39m#exportar para csv\u001b[39;00m\n\u001b[0;32m     <a href='vscode-notebook-cell:/c%3A/Users/fflose/Lab/Pessoal/python/Tests/analises_internet_v3.ipynb#X10sZmlsZQ%3D%3D?line=15'>16</a>\u001b[0m \u001b[39m#combined_csv.to_csv( \"combined_csv.csv\", index=False, encoding='utf-8-sig')\u001b[39;00m\n\u001b[0;32m     <a href='vscode-notebook-cell:/c%3A/Users/fflose/Lab/Pessoal/python/Tests/analises_internet_v3.ipynb#X10sZmlsZQ%3D%3D?line=16'>17</a>\u001b[0m df \u001b[39m=\u001b[39m pd\u001b[39m.\u001b[39mDataFrame(combined_csv)\n",
      "File \u001b[1;32m~\\AppData\\Local\\Packages\\PythonSoftwareFoundation.Python.3.9_qbz5n2kfra8p0\\LocalCache\\local-packages\\Python39\\site-packages\\pandas\\util\\_decorators.py:311\u001b[0m, in \u001b[0;36mdeprecate_nonkeyword_arguments.<locals>.decorate.<locals>.wrapper\u001b[1;34m(*args, **kwargs)\u001b[0m\n\u001b[0;32m    305\u001b[0m \u001b[39mif\u001b[39;00m \u001b[39mlen\u001b[39m(args) \u001b[39m>\u001b[39m num_allow_args:\n\u001b[0;32m    306\u001b[0m     warnings\u001b[39m.\u001b[39mwarn(\n\u001b[0;32m    307\u001b[0m         msg\u001b[39m.\u001b[39mformat(arguments\u001b[39m=\u001b[39marguments),\n\u001b[0;32m    308\u001b[0m         \u001b[39mFutureWarning\u001b[39;00m,\n\u001b[0;32m    309\u001b[0m         stacklevel\u001b[39m=\u001b[39mstacklevel,\n\u001b[0;32m    310\u001b[0m     )\n\u001b[1;32m--> 311\u001b[0m \u001b[39mreturn\u001b[39;00m func(\u001b[39m*\u001b[39margs, \u001b[39m*\u001b[39m\u001b[39m*\u001b[39mkwargs)\n",
      "File \u001b[1;32m~\\AppData\\Local\\Packages\\PythonSoftwareFoundation.Python.3.9_qbz5n2kfra8p0\\LocalCache\\local-packages\\Python39\\site-packages\\pandas\\core\\reshape\\concat.py:347\u001b[0m, in \u001b[0;36mconcat\u001b[1;34m(objs, axis, join, ignore_index, keys, levels, names, verify_integrity, sort, copy)\u001b[0m\n\u001b[0;32m    143\u001b[0m \u001b[39m@deprecate_nonkeyword_arguments\u001b[39m(version\u001b[39m=\u001b[39m\u001b[39mNone\u001b[39;00m, allowed_args\u001b[39m=\u001b[39m[\u001b[39m\"\u001b[39m\u001b[39mobjs\u001b[39m\u001b[39m\"\u001b[39m])\n\u001b[0;32m    144\u001b[0m \u001b[39mdef\u001b[39;00m \u001b[39mconcat\u001b[39m(\n\u001b[0;32m    145\u001b[0m     objs: Iterable[NDFrame] \u001b[39m|\u001b[39m Mapping[Hashable, NDFrame],\n\u001b[1;32m   (...)\u001b[0m\n\u001b[0;32m    154\u001b[0m     copy: \u001b[39mbool\u001b[39m \u001b[39m=\u001b[39m \u001b[39mTrue\u001b[39;00m,\n\u001b[0;32m    155\u001b[0m ) \u001b[39m-\u001b[39m\u001b[39m>\u001b[39m DataFrame \u001b[39m|\u001b[39m Series:\n\u001b[0;32m    156\u001b[0m     \u001b[39m\"\"\"\u001b[39;00m\n\u001b[0;32m    157\u001b[0m \u001b[39m    Concatenate pandas objects along a particular axis with optional set logic\u001b[39;00m\n\u001b[0;32m    158\u001b[0m \u001b[39m    along the other axes.\u001b[39;00m\n\u001b[1;32m   (...)\u001b[0m\n\u001b[0;32m    345\u001b[0m \u001b[39m    ValueError: Indexes have overlapping values: ['a']\u001b[39;00m\n\u001b[0;32m    346\u001b[0m \u001b[39m    \"\"\"\u001b[39;00m\n\u001b[1;32m--> 347\u001b[0m     op \u001b[39m=\u001b[39m _Concatenator(\n\u001b[0;32m    348\u001b[0m         objs,\n\u001b[0;32m    349\u001b[0m         axis\u001b[39m=\u001b[39;49maxis,\n\u001b[0;32m    350\u001b[0m         ignore_index\u001b[39m=\u001b[39;49mignore_index,\n\u001b[0;32m    351\u001b[0m         join\u001b[39m=\u001b[39;49mjoin,\n\u001b[0;32m    352\u001b[0m         keys\u001b[39m=\u001b[39;49mkeys,\n\u001b[0;32m    353\u001b[0m         levels\u001b[39m=\u001b[39;49mlevels,\n\u001b[0;32m    354\u001b[0m         names\u001b[39m=\u001b[39;49mnames,\n\u001b[0;32m    355\u001b[0m         verify_integrity\u001b[39m=\u001b[39;49mverify_integrity,\n\u001b[0;32m    356\u001b[0m         copy\u001b[39m=\u001b[39;49mcopy,\n\u001b[0;32m    357\u001b[0m         sort\u001b[39m=\u001b[39;49msort,\n\u001b[0;32m    358\u001b[0m     )\n\u001b[0;32m    360\u001b[0m     \u001b[39mreturn\u001b[39;00m op\u001b[39m.\u001b[39mget_result()\n",
      "File \u001b[1;32m~\\AppData\\Local\\Packages\\PythonSoftwareFoundation.Python.3.9_qbz5n2kfra8p0\\LocalCache\\local-packages\\Python39\\site-packages\\pandas\\core\\reshape\\concat.py:404\u001b[0m, in \u001b[0;36m_Concatenator.__init__\u001b[1;34m(self, objs, axis, join, keys, levels, names, ignore_index, verify_integrity, copy, sort)\u001b[0m\n\u001b[0;32m    401\u001b[0m     objs \u001b[39m=\u001b[39m \u001b[39mlist\u001b[39m(objs)\n\u001b[0;32m    403\u001b[0m \u001b[39mif\u001b[39;00m \u001b[39mlen\u001b[39m(objs) \u001b[39m==\u001b[39m \u001b[39m0\u001b[39m:\n\u001b[1;32m--> 404\u001b[0m     \u001b[39mraise\u001b[39;00m \u001b[39mValueError\u001b[39;00m(\u001b[39m\"\u001b[39m\u001b[39mNo objects to concatenate\u001b[39m\u001b[39m\"\u001b[39m)\n\u001b[0;32m    406\u001b[0m \u001b[39mif\u001b[39;00m keys \u001b[39mis\u001b[39;00m \u001b[39mNone\u001b[39;00m:\n\u001b[0;32m    407\u001b[0m     objs \u001b[39m=\u001b[39m \u001b[39mlist\u001b[39m(com\u001b[39m.\u001b[39mnot_none(\u001b[39m*\u001b[39mobjs))\n",
      "\u001b[1;31mValueError\u001b[0m: No objects to concatenate"
     ]
    },
    {
     "ename": "",
     "evalue": "",
     "output_type": "error",
     "traceback": [
      "O Kernel falhou ao executar o código na célula atual ou em uma célula anterior. Examine o código nas células para identificar uma possível causa da falha. Clique <a href=\"https://aka.ms/vscodeJupyterKernelCrash\">aqui</a> para obter mais informações. Consulte o <a href='command:jupyter.viewOutput'>log</a> do Jupyter para obter mais detalhes."
     ]
    }
   ],
   "source": [
    "df = resultado()\n",
    "clear_console()\n",
    "max_data = df['data'].max()\n",
    "max_hora = df['hora'].max()\n",
    "max_min = df['minuto'].max()\n",
    "df = df.loc[df['data'] == max_data]\n",
    "df = df.loc[df['hora'] == max_hora]\n",
    "df = df.loc[df['minuto'] == max_min]\n",
    "print(df)"
   ]
  }
 ],
 "metadata": {
  "kernelspec": {
   "display_name": "Python 3.9.13 64-bit (windows store)",
   "language": "python",
   "name": "python3"
  },
  "language_info": {
   "codemirror_mode": {
    "name": "ipython",
    "version": 3
   },
   "file_extension": ".py",
   "mimetype": "text/x-python",
   "name": "python",
   "nbconvert_exporter": "python",
   "pygments_lexer": "ipython3",
   "version": "3.9.13"
  },
  "orig_nbformat": 4,
  "vscode": {
   "interpreter": {
    "hash": "9ccea114764548ac1c13433044a0e53092d508177240166aa9660c215decd644"
   }
  }
 },
 "nbformat": 4,
 "nbformat_minor": 2
}
